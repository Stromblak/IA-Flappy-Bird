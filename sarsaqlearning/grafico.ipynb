{
 "cells": [
  {
   "cell_type": "code",
   "execution_count": null,
   "metadata": {},
   "outputs": [],
   "source": [
    "import matplotlib.pyplot as plt\n",
    "\n",
    "# Leer los scores desde el archivo\n",
    "scoreq = []\n",
    "scores = []\n",
    "try:\n",
    "    with open(\"scoreq.txt\", \"r\") as file:\n",
    "        for i, line in enumerate(file):\n",
    "            score = int(line.strip())\n",
    "            scoreq.append(score)\n",
    "except FileNotFoundError:\n",
    "    print(\"El archivo no existe.\")\n",
    "\n",
    "try:\n",
    "    with open(\"scores.txt\", \"r\") as file:\n",
    "        for i, line in enumerate(file):\n",
    "            score = int(line.strip())\n",
    "            scores.append(score)\n",
    "except FileNotFoundError:\n",
    "    print(\"El archivo no existe.\")\n",
    "\n",
    "# Generar el gráfico de scores\n",
    "plt.plot(scoreq, marker=\"o\", markersize=1, linewidth=0, label=\"Q-Learning\")\n",
    "plt.plot(scores, marker=\"o\", markersize=1, linewidth=0, label=\"SARSA\")\n",
    "# plt.scatter(range(len(scores)),scores,s=1)\n",
    "plt.xlabel(\"Episodio\")\n",
    "plt.ylabel(\"Score\")\n",
    "plt.title(\"Gráfico Q-Learning vs SARSA\")\n",
    "plt.legend()\n",
    "plt.show()"
   ]
  },
  {
   "cell_type": "code",
   "execution_count": null,
   "metadata": {},
   "outputs": [],
   "source": [
    "import matplotlib.pyplot as plt\n",
    "\n",
    "# Leer los scores desde el archivo\n",
    "scores = []\n",
    "try:\n",
    "    with open(\"scores.txt\", \"r\") as file:\n",
    "        for i, line in enumerate(file):\n",
    "            score = int(line.strip())\n",
    "            scores.append(score)\n",
    "except FileNotFoundError:\n",
    "    print(\"El archivo no existe.\")\n",
    "\n",
    "# Generar el gráfico de scores\n",
    "if scores:\n",
    "    plt.plot(scores, marker=\"o\", markersize=1, linewidth=0)\n",
    "    # plt.scatter(range(len(scores)),scores,s=1)\n",
    "    plt.xlabel(\"Episodio\")\n",
    "    plt.ylabel(\"Score\")\n",
    "    plt.title(\"Gráfico SARSA\")\n",
    "    plt.show()\n",
    "else:\n",
    "    print(\"No se encontraron scores para graficar.\")"
   ]
  }
 ],
 "metadata": {
  "kernelspec": {
   "display_name": "Python 3",
   "language": "python",
   "name": "python3"
  },
  "language_info": {
   "codemirror_mode": {
    "name": "ipython",
    "version": 3
   },
   "file_extension": ".py",
   "mimetype": "text/x-python",
   "name": "python",
   "nbconvert_exporter": "python",
   "pygments_lexer": "ipython3",
   "version": "3.11.3"
  },
  "orig_nbformat": 4
 },
 "nbformat": 4,
 "nbformat_minor": 2
}
